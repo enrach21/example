{
 "cells": [
  {
   "cell_type": "markdown",
   "metadata": {},
   "source": [
    "# Homework one write up"
   ]
  },
  {
   "cell_type": "code",
   "execution_count": 3,
   "metadata": {},
   "outputs": [],
   "source": [
    "#import necessary packages\n",
    "import numpy as np\n",
    "import math\n",
    "import matplotlib.pyplot as plt"
   ]
  },
  {
   "cell_type": "markdown",
   "metadata": {},
   "source": [
    "# Define functions"
   ]
  },
  {
   "cell_type": "code",
   "execution_count": 4,
   "metadata": {},
   "outputs": [],
   "source": [
    "def insertion_sort(x):\n",
    "    \"\"\"\n",
    "    Goals: \n",
    "    The goal is to sort the an array by starting with the left most element\n",
    "    and moving left to right move an element back if it is less than the previous\n",
    "    element until the list is completely ordered.\n",
    "    \n",
    "    Variables:\n",
    "    x is the array inputed into the function.\n",
    "    Assign counts when ever an index is moved or when two elements are switched.\n",
    "    Condition counts everytime two elements are compared.\n",
    "    n is the lengh of the array.\n",
    "    i is the pointer to which element of the array is being looked at.\n",
    "    \n",
    "    Output:\n",
    "    Array of...\n",
    "    first is sorted array\n",
    "    second is amount of conditionals called\n",
    "    thris is the number of assignments\n",
    "    \"\"\"\n",
    "    Assign = 0\n",
    "    Condition = 0\n",
    "    for i in range (1, len(x)): # pass through the array skipping the 0 element\n",
    "        Assign +=1 # assignment of i\n",
    "        Condition +=1 # while loop condition\n",
    "        while x[i] < x[i-1]:\n",
    "            x[i], x[i-1] = x[i-1], x[i]\n",
    "            Assign +=2 # the swapping of two elements\n",
    "            i = i-1\n",
    "            Assign +=1 # I changing by 1\n",
    "            Condition +=1 # If condition for i\n",
    "            if i == 0:\n",
    "                break\n",
    "    return x, Assign, Condition"
   ]
  },
  {
   "cell_type": "code",
   "execution_count": 5,
   "metadata": {},
   "outputs": [],
   "source": [
    "def bubbleSort(x):\n",
    "    \"\"\"\n",
    "    Goals:\n",
    "    The goal is to sort the array by looking at two element at a time and\n",
    "    switching them if the first is less than the second and move up the array.\n",
    "    Eventually after traverseing N times through the list everything will be completley\n",
    "    sorted.\n",
    "    \n",
    "    Variables:\n",
    "    x is the array inputed into the function.\n",
    "    Assign counts when ever an index is moved or when two elements are switched\n",
    "    Condition counts everytime two elements are compared\n",
    "    n is the lengh of the array\n",
    "    \n",
    "    Output:\n",
    "    Array of...\n",
    "    first is sorted array\n",
    "    second is amount of conditionals called\n",
    "    thris is the number of assignments\n",
    "   \n",
    "    \"\"\"\n",
    "    Assign = 0\n",
    "    Condition = 0\n",
    "    n = len(x)\n",
    " \n",
    "    # Traverse through all array elements\n",
    "    for i in range(n):\n",
    "        Assign += 1\n",
    "        # Last i elements are already in place\n",
    "        for j in range(0, n-i-1):\n",
    "            Assign += 1\n",
    "            Condition += 1\n",
    "            # traverse the array from 0 to n-i-1\n",
    "            # Swap if the element found is greater\n",
    "            # than the next element\n",
    "            if x[j] > x[j+1] :\n",
    "                x[j], x[j+1] = x[j+1], x[j]\n",
    "                Assign += 2\n",
    "    return x, Assign, Condition"
   ]
  },
  {
   "cell_type": "code",
   "execution_count": 6,
   "metadata": {},
   "outputs": [],
   "source": [
    "def quicksort_Assign(x):\n",
    "    \"\"\"\n",
    "    Describe how you are sorting `x`\n",
    "    \n",
    "    Goal: \n",
    "    First: Select a pivot point. In this case the first bin in the list.\n",
    "    Second: Put all of other items in the list ordered arround the pivot variable\n",
    "    Third: Recursively do the same to each side of the list\n",
    "    Fourth: If the list being sorted is 0 return it\n",
    "    \n",
    "    \n",
    "    Variables:\n",
    "    x is the array inputed into the function.\n",
    "    Assign counts when ever an index is moved or when two elements are switched.\n",
    "    Condition counts everytime two elements are compared.\n",
    "    P is the pivot point\n",
    "    \n",
    "    Output:\n",
    "    Counts of Assign variable\n",
    "    \n",
    "    \"\"\"\n",
    "    Assign = 0\n",
    "    Condition =0\n",
    "    \n",
    "    if len(x)==1 or len(x)==0:\n",
    "        Condition +=1\n",
    "        return Assign\n",
    "    \n",
    "    else:\n",
    "        P = np.take(x, 0)\n",
    "        Assign +=1\n",
    "        Array1 = np.array([], dtype=x.dtype)\n",
    "        Array2 = np.array([], dtype=x.dtype)\n",
    "        for i in range (1, len(x)):\n",
    "            Assign +=1\n",
    "            Condition +=1\n",
    "            if (x[i] < P):\n",
    "                Array1=np.append(Array1,x[i])\n",
    "                Assign +=1\n",
    "            else:\n",
    "                Array2=np.append(Array2,x[i])\n",
    "                Assign +=1\n",
    "    return quicksort_Assign(Array1) + Assign + quicksort_Assign(Array2)"
   ]
  },
  {
   "cell_type": "markdown",
   "metadata": {},
   "source": [
    "# Get Assignment Values"
   ]
  },
  {
   "cell_type": "code",
   "execution_count": 33,
   "metadata": {},
   "outputs": [
    {
     "name": "stdout",
     "output_type": "stream",
     "text": [
      "Mean of 500 arrays with insertion sort is...\n",
      "7547.58\n",
      "Mean of 500 arrays with Bubble sort is...\n",
      "10013.26\n",
      "Mean of 500 arrays with Quick sort is...\n",
      "1360.24\n"
     ]
    }
   ],
   "source": [
    "X = np.arange(100,1600,100) # This will test the range of arrays of length 100-1500\n",
    "Z = np.random.rand(100, 100) # This will test 100 random arrays of 500 length\n",
    "\n",
    "# N complexity\n",
    "N_Y = np.array([])\n",
    "for i in X:\n",
    "    N_Y = np.append(N_Y, i)\n",
    "\n",
    "# Nlog(N) complexity \n",
    "N_logN_Y = np.array([])\n",
    "for i in X:\n",
    "    N_logN_Y = np.append(N_logN_Y, (i*math.log2(i)))\n",
    "\n",
    "# N^2 complexity                         \n",
    "N2Y = np.array([])\n",
    "for i in X:\n",
    "    N2Y = np.append(N2Y, (i*i))\n",
    "    \n",
    "Insertion_Y = np.array([])\n",
    "for i in X:\n",
    "    Array = np.random.rand(i)\n",
    "    Insertion_Y = np.append(Insertion_Y, insertion_sort(Array)[1])\n",
    "Insertion_Z = np.array([])    \n",
    "for j in Z:\n",
    "    Insertion_Z = np.append(Insertion_Z, insertion_sort(j)[1])\n",
    "Insertion_Z = np.mean(Insertion_Z)\n",
    "print(\"Mean of 500 arrays of length 100 with insertion sort is...\")\n",
    "print(Insertion_Z)\n",
    "\n",
    "X = np.arange(100,1600,100) # Remake so that it is not sorted\n",
    "Z = np.random.rand(100, 100) \n",
    "\n",
    "Bubble_Y = np.array([])\n",
    "for i in X:\n",
    "    Array = np.random.rand(i)\n",
    "    Bubble_Y = np.append(Bubble_Y,  bubbleSort(Array)[1])\n",
    "Bubble_Z = np.array([]) \n",
    "for j in Z:\n",
    "    Bubble_Z = np.append(Bubble_Z, bubbleSort(j)[1])\n",
    "Bubble_Z = np.mean(Bubble_Z)\n",
    "print(\"Mean of 500 arrays of length 100 with Bubble sort is...\")\n",
    "print(Bubble_Z)\n",
    "\n",
    "X = np.arange(100,1600,100) # Remake so that it is not sorted\n",
    "Z = np.random.rand(100, 100) \n",
    "\n",
    "Quick_Y = np.array([])\n",
    "for i in X:\n",
    "    Array = np.random.rand(i)\n",
    "    Quick_Y = np.append(Quick_Y,  quicksort_Assign(Array))\n",
    "Quick_Z = np.array([]) \n",
    "for j in Z:\n",
    "    Quick_Z = np.append(Quick_Z, quicksort_Assign(j))\n",
    "Quick_Z = np.mean(Quick_Z)\n",
    "print(\"Mean of 500 arrays of length 100 with Quick sort is...\")\n",
    "print(Quick_Z)\n",
    "\n"
   ]
  },
  {
   "cell_type": "markdown",
   "metadata": {},
   "source": [
    "# Plot the functions"
   ]
  },
  {
   "cell_type": "code",
   "execution_count": 34,
   "metadata": {
    "scrolled": true
   },
   "outputs": [
    {
     "data": {
      "image/png": "[encoded data removed]",
      "text/plain": [
       "<Figure size 432x288 with 1 Axes>"
      ]
     },
     "metadata": {
      "needs_background": "light"
     },
     "output_type": "display_data"
    }
   ],
   "source": [
    "plt.plot(X, N_Y, 'o', color='blue', label='O(n)')\n",
    "plt.plot(X, N2Y, 'o', color='green', label='O(n^2)')\n",
    "plt.plot(X, N_logN_Y, 'o', color='red', label='O(nlog(n)')\n",
    "plt.plot(X, Insertion_Y, 'o', color='black', label='Insertion Sort')\n",
    "plt.plot(X, Bubble_Y, 'o', color='yellow', label='Bubble Sort')\n",
    "plt.plot(X, Quick_Y, 'o', color='orange', label='Quick Sort')\n",
    "plt.show()"
   ]
  },
  {
   "cell_type": "markdown",
   "metadata": {},
   "source": [
    "By plotting the assignment counts over the varying lengths of N vectors we are able to infer the complexity of each of the three algorithms when given randomized arrays. Thus, this is the typical runtime, but not the worst case runtime. For example, if the quick sort algorithm was ran on an already order array, it would take N^2 time to sort rather than Nlog(N) as the array would no longer be split into two parts recurisvely.\n",
    "\n",
    "Above the blue, red, and green dots represent the assignments counted on average for N, Nlog(N), and N^2 time respecitively for list with the length equalling the X axis.\n",
    "\n",
    "Investigating each sorting method:\n",
    "\n",
    "Insertion sort(Black) - Runs in N^2 time. ALthough it is lower than the green N^2 comparison in the long run insertion sort acts like N2 time as we can see above. This was confirmed once we took the average Assign value of 500 random arrays of length 100 and obtained 7547.58.\n",
    "\n",
    "Bubble sort(Yellow) - Runs in N^2 time. It is almost the exact same as the green dot bench mark throughout. This was confirmed once we took the average Assign value of 500 random arrays of length 100 and obtained 10013.26.\n",
    "\n",
    "Quick sort(Oragne) - Runs in Nlog(N) time. It is almost the exact same as the red dot bench mark throughout. This was confirmed once we took the average Assign value of 500 random arrays of length 100 and obtained 1360.24.\n"
   ]
  }
 ],
 "metadata": {
  "kernelspec": {
   "display_name": "Python 3",
   "language": "python",
   "name": "python3"
  },
  "language_info": {
   "codemirror_mode": {
    "name": "ipython",
    "version": 3
   },
   "file_extension": ".py",
   "mimetype": "text/x-python",
   "name": "python",
   "nbconvert_exporter": "python",
   "pygments_lexer": "ipython3",
   "version": "3.7.4"
  }
 },
 "nbformat": 4,
 "nbformat_minor": 2
}
